{
 "cells": [
  {
   "cell_type": "code",
   "execution_count": 13,
   "outputs": [],
   "source": [
    "import sys\n",
    "sys.path.append('../')"
   ],
   "metadata": {
    "collapsed": false
   }
  },
  {
   "cell_type": "code",
   "execution_count": 14,
   "metadata": {
    "collapsed": true
   },
   "outputs": [
    {
     "name": "stdout",
     "output_type": "stream",
     "text": [
      "The autoreload extension is already loaded. To reload it, use:\n",
      "  %reload_ext autoreload\n"
     ]
    }
   ],
   "source": [
    "import pandas as pd\n",
    "from utils.data_utils import preprocess_and_normalize_energy_data, parse_codecarbon_output\n",
    "%load_ext autoreload\n",
    "%autoreload 2\n",
    "SEED = 1223"
   ]
  },
  {
   "cell_type": "markdown",
   "source": [
    "# Conv2d"
   ],
   "metadata": {
    "collapsed": false
   }
  },
  {
   "cell_type": "code",
   "execution_count": 15,
   "outputs": [
    {
     "name": "stdout",
     "output_type": "stream",
     "text": [
      "Dropped observations with the following indices: [24, 69, 102, 175, 183, 303, 382, 406, 467, 552, 619, 751, 761, 853, 901, 902, 955, 1009, 1041, 1060, 1089, 1106, 1225, 1230, 1330, 1365, 1423, 1449]\n",
      "dataset shape: (1472, 39)\n",
      "Dropped observations with the following indices: [6, 7, 8, 21, 22, 23, 60, 61, 62, 165, 166, 167, 174, 175, 176, 228, 229, 230, 246, 247, 248, 303, 304, 305, 456, 457, 458, 498, 499, 500, 546, 547, 548, 666, 667, 668, 675, 676, 677, 783, 784, 785, 798, 799, 800, 864, 865, 866, 897, 898, 899, 945, 946, 947, 1107, 1108, 1109, 1113, 1114, 1115, 1242, 1243, 1244, 1362, 1363, 1364, 1371, 1372, 1373, 1452, 1453, 1454]\n",
      "dataset shape: (1428, 39)\n",
      "Final shape of data set: (976, 28)\n"
     ]
    }
   ],
   "source": [
    "param_cols = ['batch_size','image_size','kernel_size','in_channels','out_channels','stride','padding']\n",
    "d1 = parse_codecarbon_output(\n",
    "    '../data/conv2d/00_conv2d-raw.csv',\n",
    "    False,\n",
    "    ('../data/conv2d/00_conv2d-slurm-log.out','conv2d',False,3)\n",
    ")\n",
    "print(\"dataset shape:\", d1.shape)\n",
    "d2 = parse_codecarbon_output(\n",
    "    '../data/conv2d/02_conv2d-raw.csv',\n",
    "    False,\n",
    "    ('../data/conv2d/02_conv2d-slurm-log.out','conv2d',True,3)\n",
    ")\n",
    "print(\"dataset shape:\", d2.shape)\n",
    "data_unnormalized_conv2d = pd.concat([d1,d2])\n",
    "data_conv2d = preprocess_and_normalize_energy_data(data_unnormalized_conv2d, param_cols, aggregate=True)\n",
    "data_conv2d.to_csv('./data/conv2d.csv')"
   ],
   "metadata": {
    "collapsed": false
   }
  },
  {
   "cell_type": "markdown",
   "source": [
    "# MaxPool2d"
   ],
   "metadata": {
    "collapsed": false
   }
  },
  {
   "cell_type": "code",
   "execution_count": 16,
   "outputs": [
    {
     "name": "stdout",
     "output_type": "stream",
     "text": [
      "Dropped observations with the following indices: [60, 237, 238, 392, 617, 681, 763, 859, 957, 1021, 1113, 1153, 1287, 1305, 1433, 1440]\n",
      "dataset shape: (1484, 38)\n",
      "Dropped observations with the following indices: [45, 46, 47, 105, 106, 107, 213, 214, 215, 249, 250, 251, 372, 373, 374, 378, 379, 380, 531, 532, 533, 540, 541, 542, 801, 802, 803, 843, 844, 845, 1023, 1024, 1025, 1095, 1096, 1097, 1176, 1177, 1178, 1236, 1237, 1238, 1362, 1363, 1364]\n",
      "dataset shape: (1455, 38)\n",
      "Final shape of data set: (985, 27)\n"
     ]
    }
   ],
   "source": [
    "param_cols = ['batch_size','image_size','kernel_size','in_channels','stride','padding']\n",
    "d1 = parse_codecarbon_output(\n",
    "    '../data/maxpool2d/00_maxpool2d-raw.csv',\n",
    "    False,\n",
    "    ('../data/maxpool2d/00_maxpool2d-slurm-log.out','maxpool2d',False,3)\n",
    ")\n",
    "print(\"dataset shape:\", d1.shape)\n",
    "d2 = parse_codecarbon_output(\n",
    "    '../data/maxpool2d/02_maxpool2d-raw.csv',\n",
    "    False,\n",
    "    ('../data/maxpool2d/02_maxpool2d-slurm-log.out','maxpool2d',True,3)\n",
    ")\n",
    "print(\"dataset shape:\", d2.shape)\n",
    "data_unnormalized_maxpool2d = pd.concat([d1, d2])\n",
    "data_maxpool2d = preprocess_and_normalize_energy_data(data_unnormalized_maxpool2d, param_cols, aggregate=True)\n",
    "data_maxpool2d.to_csv('./data/maxpool2d.csv')"
   ],
   "metadata": {
    "collapsed": false
   }
  },
  {
   "cell_type": "markdown",
   "source": [
    "# Linear"
   ],
   "metadata": {
    "collapsed": false
   }
  },
  {
   "cell_type": "code",
   "execution_count": 17,
   "outputs": [
    {
     "name": "stdout",
     "output_type": "stream",
     "text": [
      "Dropped observations with the following indices: [5, 80, 235, 275, 466, 470, 665, 697, 860, 926, 1054, 1158, 1249, 1443]\n",
      "dataset shape: (1486, 35)\n",
      "Dropped observations with the following indices: [66, 67, 68, 456, 457, 458, 624, 625, 626, 651, 652, 653, 855, 856, 857, 1086, 1087, 1088, 1236, 1237, 1238, 1428, 1429, 1430]\n",
      "dataset shape: (1476, 35)\n",
      "Final shape of data set: (992, 24)\n"
     ]
    }
   ],
   "source": [
    "param_cols = ['batch_size','input_size','output_size']\n",
    "d1 = parse_codecarbon_output(\n",
    "    '../data/linear/00_linear-raw.csv',\n",
    "    False,\n",
    "    ('../data/linear/00_linear-slurm-log.out','linear',False,3)\n",
    ")\n",
    "print(\"dataset shape:\", d1.shape)\n",
    "d2 = parse_codecarbon_output(\n",
    "    '../data/linear/02_linear-raw.csv',\n",
    "    False,\n",
    "    ('../data/linear/02_linear-slurm-log.out','linear',True,3)\n",
    ")\n",
    "print(\"dataset shape:\", d2.shape)\n",
    "data_unnormalized_linear = pd.concat([d1,d2])\n",
    "data_linear = preprocess_and_normalize_energy_data(data_unnormalized_linear, param_cols, aggregate=True)\n",
    "data_linear.to_csv('./data/linear.csv')"
   ],
   "metadata": {
    "collapsed": false
   }
  },
  {
   "cell_type": "markdown",
   "source": [
    "# ReLu"
   ],
   "metadata": {
    "collapsed": false
   }
  },
  {
   "cell_type": "code",
   "execution_count": 18,
   "outputs": [
    {
     "name": "stdout",
     "output_type": "stream",
     "text": [
      "Dropped observations with the following indices: [115, 169, 286, 368, 456, 565, 761, 791, 953, 1127, 1154, 1295, 1462]\n",
      "dataset shape: (1487, 34)\n",
      "Dropped observations with the following indices: [36, 37, 38, 210, 211, 212, 234, 235, 236, 378, 379, 380, 543, 544, 545, 636, 637, 638, 834, 835, 836, 1041, 1042, 1043, 1206, 1207, 1208, 1236, 1237, 1238, 1371, 1372, 1373, 1431, 1432, 1433]\n",
      "dataset shape: (1464, 35)\n",
      "Final shape of data set: (988, 24)\n"
     ]
    }
   ],
   "source": [
    "param_cols = ['batch_size','input_size']\n",
    "d1_relu = parse_codecarbon_output(\n",
    "    '../data/activations/01_relu_raw.csv',\n",
    "    False,\n",
    "    ('../data/activations/01_relu-slurm-log.out','relu',False,3)\n",
    ")\n",
    "print(\"dataset shape:\", d1_relu.shape)\n",
    "d1_relu[\"test\"] = True\n",
    "d2_relu = parse_codecarbon_output(\n",
    "    '../data/activations/00_relu-raw.csv',\n",
    "    False,\n",
    "    ('../data/activations/00_activations-slurm-log.out','relu',True,3)\n",
    ")\n",
    "d2_relu[\"test\"] = False\n",
    "print(\"dataset shape:\", d2_relu.shape)\n",
    "data_unnormalized_relu = pd.concat([d1_relu,d2_relu])\n",
    "data_relu = preprocess_and_normalize_energy_data(data_unnormalized_relu, param_cols, aggregate=True)\n",
    "data_relu.head()\n",
    "data_relu.to_csv('./data/relu.csv')"
   ],
   "metadata": {
    "collapsed": false
   }
  },
  {
   "cell_type": "markdown",
   "source": [
    "# Sigmoid"
   ],
   "metadata": {
    "collapsed": false
   }
  },
  {
   "cell_type": "code",
   "execution_count": 19,
   "outputs": [
    {
     "name": "stdout",
     "output_type": "stream",
     "text": [
      "Dropped observations with the following indices: [21, 22, 23, 120, 121, 122, 183, 184, 185, 345, 346, 347, 516, 517, 518, 828, 829, 830, 996, 997, 998, 1110, 1111, 1112, 1161, 1162, 1163, 1305, 1306, 1307, 1479, 1480, 1481]\n",
      "Final shape of data set: (489, 23)\n"
     ]
    }
   ],
   "source": [
    "data_unnormalized_sigmoid = parse_codecarbon_output(\n",
    "    '../data/activations/00_sigmoid-raw.csv',\n",
    "    False,\n",
    "    ('../data/activations/00_activations-slurm-log.out','sigmoid',True,3)\n",
    ")\n",
    "data_sigmoid = preprocess_and_normalize_energy_data(data_unnormalized_sigmoid, param_cols, aggregate=True)\n",
    "data_sigmoid.head()\n",
    "data_sigmoid.to_csv('./data/sigmoid.csv')"
   ],
   "metadata": {
    "collapsed": false
   }
  },
  {
   "cell_type": "markdown",
   "source": [
    "# Tanh"
   ],
   "metadata": {
    "collapsed": false
   }
  },
  {
   "cell_type": "code",
   "execution_count": 20,
   "outputs": [
    {
     "name": "stdout",
     "output_type": "stream",
     "text": [
      "Dropped observations with the following indices: [138, 139, 140, 195, 196, 197, 303, 304, 305, 396, 397, 398, 462, 463, 464, 786, 787, 788, 948, 949, 950, 1107, 1108, 1109, 1272, 1273, 1274]\n",
      "Final shape of data set: (491, 23)\n"
     ]
    }
   ],
   "source": [
    "data_unnormalized_tanh = parse_codecarbon_output(\n",
    "    '../data/activations/00_tanh-raw.csv',\n",
    "    False,\n",
    "    ('../data/activations/00_activations-slurm-log.out','tanh',True,3)\n",
    ")\n",
    "data_tanh = preprocess_and_normalize_energy_data(data_unnormalized_tanh, param_cols, aggregate=True)\n",
    "data_tanh.head()\n",
    "data_tanh.to_csv('./data/tanh.csv')"
   ],
   "metadata": {
    "collapsed": false
   }
  },
  {
   "cell_type": "markdown",
   "source": [
    "# Softmax"
   ],
   "metadata": {
    "collapsed": false
   }
  },
  {
   "cell_type": "code",
   "execution_count": 21,
   "outputs": [
    {
     "name": "stdout",
     "output_type": "stream",
     "text": [
      "Dropped observations with the following indices: [72, 73, 74, 93, 94, 95, 255, 256, 257, 273, 274, 275, 417, 418, 419, 1215, 1216, 1217, 1242, 1243, 1244]\n",
      "Final shape of data set: (493, 23)\n"
     ]
    }
   ],
   "source": [
    "data_unnormalized_softmax = parse_codecarbon_output(\n",
    "    '../data/activations/00_softmax-raw.csv',\n",
    "    False,\n",
    "    ('../data/activations/00_activations-slurm-log.out','softmax',True,3)\n",
    ")\n",
    "data_softmax = preprocess_and_normalize_energy_data(data_unnormalized_softmax, param_cols, aggregate=True)\n",
    "data_softmax.head()\n",
    "data_softmax.to_csv('./data/softmax.csv')"
   ],
   "metadata": {
    "collapsed": false
   }
  },
  {
   "cell_type": "markdown",
   "source": [],
   "metadata": {
    "collapsed": false
   }
  }
 ],
 "metadata": {
  "kernelspec": {
   "display_name": "Python 3",
   "language": "python",
   "name": "python3"
  },
  "language_info": {
   "codemirror_mode": {
    "name": "ipython",
    "version": 2
   },
   "file_extension": ".py",
   "mimetype": "text/x-python",
   "name": "python",
   "nbconvert_exporter": "python",
   "pygments_lexer": "ipython2",
   "version": "2.7.6"
  }
 },
 "nbformat": 4,
 "nbformat_minor": 0
}
