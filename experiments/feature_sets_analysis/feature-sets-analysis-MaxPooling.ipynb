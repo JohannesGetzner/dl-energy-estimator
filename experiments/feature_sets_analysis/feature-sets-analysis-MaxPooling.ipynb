{
 "cells": [
  {
   "cell_type": "code",
   "execution_count": null,
   "metadata": {
    "collapsed": true
   },
   "outputs": [],
   "source": [
    "import matplotlib.pyplot as plt\n",
    "import pandas as pd\n",
    "import numpy as np\n",
    "import seaborn as sns\n",
    "from matplotlib.lines import Line2D\n",
    "from sklearn.preprocessing import MinMaxScaler, PolynomialFeatures, StandardScaler\n",
    "from utils.data_utils import preprocess_and_normalize_energy_data\n",
    "from sklearn.linear_model import LinearRegression, Lasso\n",
    "from experiments.experiments_utils import split_data_set, fit_model, compute_log_transformed_features, apply_data_transforms, test_model\n",
    "%load_ext autoreload\n",
    "%autoreload 2\n",
    "SEED = 1223"
   ]
  },
  {
   "cell_type": "code",
   "execution_count": null,
   "outputs": [],
   "source": [
    "param_cols = ['batch_size','image_size','kernel_size','in_channels','stride','padding']\n",
    "models = {}\n",
    "estimates = {}"
   ],
   "metadata": {
    "collapsed": false
   }
  },
  {
   "cell_type": "markdown",
   "source": [
    "# MaxPooling2D Module\n",
    "## Load Data"
   ],
   "metadata": {
    "collapsed": false
   }
  },
  {
   "cell_type": "code",
   "execution_count": null,
   "outputs": [],
   "source": [
    "data_unnormalized = pd.read_csv('../../data/maxpooling2d-energies-parsed.csv')\n",
    "data = preprocess_and_normalize_energy_data(data_unnormalized, param_cols, aggregate=True)"
   ],
   "metadata": {
    "collapsed": false
   }
  },
  {
   "cell_type": "markdown",
   "source": [
    "## Feature Set: Parameters"
   ],
   "metadata": {
    "collapsed": false
   }
  },
  {
   "cell_type": "code",
   "execution_count": null,
   "outputs": [],
   "source": [
    "dfs = split_data_set(data, param_cols, SEED)\n",
    "transformers_dict = {\n",
    "    \"x_preprocessors\": [PolynomialFeatures(degree=3, interaction_only=True)],\n",
    "    \"y_preprocessor\": MinMaxScaler()\n",
    "}\n",
    "dfs, _ = apply_data_transforms(dfs, transformers_dict)\n",
    "model, *_ = fit_model(Lasso(max_iter=int(1e5)), dfs[\"x_train\"], dfs[\"y_train\"], dfs[\"x_val\"], dfs[\"y_val\"], plot_results=False)\n",
    "y_hat, *_ = test_model(model,dfs[\"x_test\"],dfs[\"y_test\"],plot_results=True)\n",
    "# save model & estimates\n",
    "models['param'] = model\n",
    "estimates['param'] = y_hat"
   ],
   "metadata": {
    "collapsed": false
   }
  },
  {
   "cell_type": "markdown",
   "source": [
    "## Feature-Set: Module Parameters + Log-Parameters\n"
   ],
   "metadata": {
    "collapsed": false
   }
  },
  {
   "cell_type": "code",
   "execution_count": null,
   "outputs": [],
   "source": [
    "data_linear_with_log, param_cols_with_log = compute_log_transformed_features(data, param_cols)\n",
    "dfs = split_data_set(data_linear_with_log, param_cols_with_log, SEED)\n",
    "transformers_dict = {\n",
    "    \"x_preprocessors\": [PolynomialFeatures(degree=2, interaction_only=True)],\n",
    "    \"y_preprocessor\": MinMaxScaler()\n",
    "}\n",
    "dfs, _ = apply_data_transforms(dfs, transformers_dict)\n",
    "model, *_ = fit_model(Lasso(max_iter=int(1e5)), dfs[\"x_train\"], dfs[\"y_train\"], dfs[\"x_val\"], dfs[\"y_val\"], plot_results=False)\n",
    "y_hat, *_ = test_model(model,dfs[\"x_test\"],dfs[\"y_test\"],plot_results=True)\n",
    "# save model & estimates\n",
    "models['param_log_param'] = model\n",
    "estimates['param_log_param'] = y_hat"
   ],
   "metadata": {
    "collapsed": false
   }
  },
  {
   "cell_type": "markdown",
   "source": [
    "## Feature-Set: MACs Only\n"
   ],
   "metadata": {
    "collapsed": false
   }
  },
  {
   "cell_type": "code",
   "execution_count": null,
   "outputs": [],
   "source": [
    "dfs = split_data_set(data, ['macs'], SEED)\n",
    "transformers_dict = {\n",
    "    \"x_preprocessors\": None,\n",
    "    \"y_preprocessor\": MinMaxScaler()\n",
    "}\n",
    "dfs, _ = apply_data_transforms(dfs, transformers_dict)\n",
    "model, *_ = fit_model(LinearRegression(), dfs[\"x_train\"], dfs[\"y_train\"], dfs[\"x_val\"], dfs[\"y_val\"], plot_results=False)\n",
    "y_hat, *_ = test_model(model,dfs[\"x_test\"],dfs[\"y_test\"],plot_results=True)\n",
    "# save model & estimates\n",
    "models['macs'] = model\n",
    "estimates['macs'] = y_hat"
   ],
   "metadata": {
    "collapsed": false
   }
  },
  {
   "cell_type": "markdown",
   "source": [
    "# Feature-Set: Module Parameters + MACs\n"
   ],
   "metadata": {
    "collapsed": false
   }
  },
  {
   "cell_type": "code",
   "execution_count": null,
   "outputs": [],
   "source": [
    "dfs = split_data_set(data, param_cols + ['macs'], SEED)\n",
    "transformers_dict = {\n",
    "    \"x_preprocessors\": [StandardScaler()],\n",
    "    \"y_preprocessor\": MinMaxScaler()\n",
    "}\n",
    "dfs, _ = apply_data_transforms(dfs, transformers_dict)\n",
    "model, *_ = fit_model(LinearRegression(), dfs[\"x_train\"], dfs[\"y_train\"], dfs[\"x_val\"], dfs[\"y_val\"], plot_results=False)\n",
    "y_hat, *_ = test_model(model,dfs[\"x_test\"],dfs[\"y_test\"],plot_results=True)\n",
    "# save model & estimates\n",
    "models['param_macs'] = model\n",
    "estimates['param_macs'] = y_hat"
   ],
   "metadata": {
    "collapsed": false
   }
  },
  {
   "cell_type": "markdown",
   "source": [
    "## Feature-Set: Module Parameters + Log-Parameters + MACs\n"
   ],
   "metadata": {
    "collapsed": false
   }
  },
  {
   "cell_type": "code",
   "execution_count": null,
   "outputs": [],
   "source": [
    "data_linear_with_log, param_cols_with_log = compute_log_transformed_features(data, param_cols)\n",
    "dfs = split_data_set(data_linear_with_log, param_cols_with_log + ['macs'], SEED)\n",
    "transformers_dict = {\n",
    "    \"x_preprocessors\": [StandardScaler()],\n",
    "    \"y_preprocessor\": MinMaxScaler()\n",
    "}\n",
    "dfs, _ = apply_data_transforms(dfs, transformers_dict)\n",
    "model, *_ = fit_model(LinearRegression(), dfs[\"x_train\"], dfs[\"y_train\"], dfs[\"x_val\"], dfs[\"y_val\"], plot_results=False)\n",
    "y_hat, *_ = test_model(model,dfs[\"x_test\"],dfs[\"y_test\"],plot_results=True)\n",
    "# save model & estimates\n",
    "models['param_log_param_macs'] = model\n",
    "estimates['param_log_param_macs'] = y_hat"
   ],
   "metadata": {
    "collapsed": false
   }
  },
  {
   "cell_type": "markdown",
   "source": [
    "# Comparison of all models\n"
   ],
   "metadata": {
    "collapsed": false
   }
  },
  {
   "cell_type": "code",
   "execution_count": null,
   "outputs": [],
   "source": [
    "df_to_plot = pd.DataFrame(columns=[\"features\",\"y_hat\",'y'])\n",
    "for model_name, model in models.items():\n",
    "    new_df = pd.DataFrame(data={'features':[model_name]*len(dfs['y_test']),'y_hat':np.squeeze(estimates[model_name]),'y':np.squeeze(dfs['y_test'])})\n",
    "    df_to_plot = pd.concat([df_to_plot, new_df], ignore_index=True)\n",
    "min_x = min(min(df_to_plot.y_hat),min(df_to_plot.y))\n",
    "max_x = max(max(df_to_plot.y_hat),max(df_to_plot.y))\n",
    "g = sns.lmplot(data=df_to_plot, x=\"y\", y=\"y_hat\", hue=\"features\", ci=None, height=6, aspect=1.5, facet_kws={'legend_out':False}, markers='o')\n",
    "plt.plot([min_x, max_x], [min_x, max_x],ls='--', marker='', label='optimum', color=\"#f032e6\")\n",
    "line = Line2D([0], [0], ls='--', label='optimum', color='#f032e6')\n",
    "g.set(xlabel='Ground Truth', ylabel='Prediction')\n",
    "legend1 = g.legend\n",
    "legend2 = plt.legend(handles = [plt.plot([],ls=\"--\", color=line.get_color())[0]], labels=[line.get_label()], loc='best')\n",
    "g.fig.add_artist(legend1)\n",
    "g.fig.add_artist(legend2)"
   ],
   "metadata": {
    "collapsed": false
   }
  }
 ],
 "metadata": {
  "kernelspec": {
   "display_name": "Python 3",
   "language": "python",
   "name": "python3"
  },
  "language_info": {
   "codemirror_mode": {
    "name": "ipython",
    "version": 2
   },
   "file_extension": ".py",
   "mimetype": "text/x-python",
   "name": "python",
   "nbconvert_exporter": "python",
   "pygments_lexer": "ipython2",
   "version": "2.7.6"
  }
 },
 "nbformat": 4,
 "nbformat_minor": 0
}
