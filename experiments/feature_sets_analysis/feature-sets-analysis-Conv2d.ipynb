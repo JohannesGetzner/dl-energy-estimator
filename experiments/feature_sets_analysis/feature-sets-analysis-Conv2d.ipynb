{
 "cells": [
  {
   "cell_type": "markdown",
   "source": [
    "# Imports and Definitions"
   ],
   "metadata": {
    "collapsed": false
   }
  },
  {
   "cell_type": "code",
   "execution_count": 1,
   "outputs": [],
   "source": [
    "import sys\n",
    "sys.path.append('../../')"
   ],
   "metadata": {
    "collapsed": false
   }
  },
  {
   "cell_type": "code",
   "execution_count": 2,
   "outputs": [],
   "source": [
    "import matplotlib.pyplot as plt\n",
    "import pandas as pd\n",
    "import numpy as np\n",
    "import seaborn as sns\n",
    "from matplotlib.lines import Line2D\n",
    "from sklearn.preprocessing import MinMaxScaler, PolynomialFeatures, StandardScaler\n",
    "from utils.data_utils import preprocess_and_normalize_energy_data\n",
    "from sklearn.linear_model import LinearRegression, Lasso\n",
    "from utils.experiments_utils import split_data_set, fit_model, compute_log_transformed_features, apply_data_transforms, test_model\n",
    "from sklearn.metrics import r2_score\n",
    "%load_ext autoreload\n",
    "%autoreload 2\n",
    "SEED = 1223"
   ],
   "metadata": {
    "collapsed": false
   }
  },
  {
   "cell_type": "code",
   "execution_count": 3,
   "outputs": [],
   "source": [
    "param_cols = ['batch_size','image_size','kernel_size','in_channels','out_channels','stride','padding']\n",
    "models = {}\n",
    "estimates = {}"
   ],
   "metadata": {
    "collapsed": false
   }
  },
  {
   "cell_type": "markdown",
   "source": [
    "# Conv2d Module\n",
    "## Load Data"
   ],
   "metadata": {
    "collapsed": false
   }
  },
  {
   "cell_type": "code",
   "execution_count": 4,
   "outputs": [
    {
     "data": {
      "text/plain": "'/home/getznerj/Documents/Repositories/ml-energy-estimator/experiments/feature_sets_analysis'"
     },
     "execution_count": 4,
     "metadata": {},
     "output_type": "execute_result"
    }
   ],
   "source": [
    "import os\n",
    "os.getcwd()"
   ],
   "metadata": {
    "collapsed": false
   }
  },
  {
   "cell_type": "code",
   "execution_count": 9,
   "outputs": [
    {
     "name": "stdout",
     "output_type": "stream",
     "text": [
      "Dropped observations with the following indices: [2, 7, 20, 55, 58, 76, 82, 101, 152, 166, 182, 222, 225, 261, 266, 288, 299, 315, 369, 371, 414, 454, 457, 484]\n",
      "Final shape of data set: (476, 29)\n"
     ]
    }
   ],
   "source": [
    "data_unnormalized = pd.read_csv('../../data/conv2d-energies-parsed.csv')\n",
    "data = preprocess_and_normalize_energy_data(data_unnormalized, param_cols, aggregate=True, slurm_log_info=('../../data/slurm-7511929.out','conv2d'))"
   ],
   "metadata": {
    "collapsed": false
   }
  },
  {
   "cell_type": "markdown",
   "source": [
    "## Feature Set: Parameters"
   ],
   "metadata": {
    "collapsed": false
   }
  },
  {
   "cell_type": "code",
   "execution_count": 10,
   "outputs": [
    {
     "name": "stdout",
     "output_type": "stream",
     "text": [
      "Number of observations: train/333, val/95 and test-set/48\n",
      "Average R2 Cross-Validation Score: 0.298 (± 0.683)\n",
      "Average MSE Cross-Validation: -4.497e-03 (± 1.537e-03)\n",
      "Validation R2 Score: 0.748\n",
      "Validation MSE: 5.519e-03\n"
     ]
    }
   ],
   "source": [
    "dfs = split_data_set(data, param_cols, SEED)\n",
    "transformers_dict = {\n",
    "    \"x_preprocessors\": [PolynomialFeatures(degree=4, interaction_only=True)],\n",
    "    \"y_preprocessor\": MinMaxScaler()\n",
    "}\n",
    "dfs, _ = apply_data_transforms(dfs, transformers_dict)\n",
    "model, *_ = fit_model(Lasso(max_iter=int(1e5)), dfs[\"x_train\"], dfs[\"y_train\"], dfs[\"x_val\"], dfs[\"y_val\"], plot_results=False)"
   ],
   "metadata": {
    "collapsed": false
   }
  },
  {
   "cell_type": "code",
   "execution_count": null,
   "outputs": [],
   "source": [
    "y_hat, *_ = test_model(model,dfs[\"x_test\"],dfs[\"y_test\"],plot_results=True)"
   ],
   "metadata": {
    "collapsed": false
   }
  },
  {
   "cell_type": "code",
   "execution_count": null,
   "outputs": [],
   "source": [
    "# save model & estimates\n",
    "models['param'] = model\n",
    "estimates['param'] = y_hat"
   ],
   "metadata": {
    "collapsed": false
   }
  },
  {
   "cell_type": "markdown",
   "source": [
    "## Feature-Set: Module Parameters + Log-Parameters\n"
   ],
   "metadata": {
    "collapsed": false
   }
  },
  {
   "cell_type": "code",
   "execution_count": null,
   "outputs": [],
   "source": [
    "data_linear_with_log, param_cols_with_log = compute_log_transformed_features(data, param_cols)\n",
    "dfs = split_data_set(data_linear_with_log, param_cols_with_log, SEED)\n",
    "transformers_dict = {\n",
    "    \"x_preprocessors\": [PolynomialFeatures(degree=3, interaction_only=True)],\n",
    "    \"y_preprocessor\": MinMaxScaler()\n",
    "}\n",
    "dfs, _ = apply_data_transforms(dfs, transformers_dict)\n",
    "model, *_ = fit_model(Lasso(max_iter=int(1e5)), dfs[\"x_train\"], dfs[\"y_train\"], dfs[\"x_val\"], dfs[\"y_val\"], plot_results=False)"
   ],
   "metadata": {
    "collapsed": false
   }
  },
  {
   "cell_type": "code",
   "execution_count": null,
   "outputs": [],
   "source": [
    "y_hat, *_ = test_model(model,dfs[\"x_test\"],dfs[\"y_test\"],plot_results=True)"
   ],
   "metadata": {
    "collapsed": false
   }
  },
  {
   "cell_type": "code",
   "execution_count": null,
   "outputs": [],
   "source": [
    "# save model & estimates\n",
    "models['param_log_param'] = model\n",
    "estimates['param_log_param'] = y_hat"
   ],
   "metadata": {
    "collapsed": false
   }
  },
  {
   "cell_type": "markdown",
   "source": [
    "## Feature-Set: MACs Only"
   ],
   "metadata": {
    "collapsed": false
   }
  },
  {
   "cell_type": "code",
   "execution_count": null,
   "outputs": [],
   "source": [
    "dfs = split_data_set(data, ['macs'], SEED)\n",
    "transformers_dict = {\n",
    "    \"x_preprocessors\": None,\n",
    "    \"y_preprocessor\": MinMaxScaler()\n",
    "}\n",
    "dfs, _ = apply_data_transforms(dfs, transformers_dict)\n",
    "model, *_ = fit_model(LinearRegression(), dfs[\"x_train\"], dfs[\"y_train\"], dfs[\"x_val\"], dfs[\"y_val\"], plot_results=False)"
   ],
   "metadata": {
    "collapsed": false
   }
  },
  {
   "cell_type": "code",
   "execution_count": null,
   "outputs": [],
   "source": [
    "y_hat, *_ = test_model(model,dfs[\"x_test\"],dfs[\"y_test\"],plot_results=True)"
   ],
   "metadata": {
    "collapsed": false
   }
  },
  {
   "cell_type": "code",
   "execution_count": null,
   "outputs": [],
   "source": [
    "# save model & estimates\n",
    "models['macs'] = model\n",
    "estimates['macs'] = y_hat"
   ],
   "metadata": {
    "collapsed": false
   }
  },
  {
   "cell_type": "markdown",
   "source": [
    "# Feature-Set: Module Parameters + MACs"
   ],
   "metadata": {
    "collapsed": false
   }
  },
  {
   "cell_type": "code",
   "execution_count": null,
   "outputs": [],
   "source": [
    "dfs = split_data_set(data, param_cols + ['macs'], SEED)\n",
    "transformers_dict = {\n",
    "    \"x_preprocessors\": [StandardScaler()],\n",
    "    \"y_preprocessor\": MinMaxScaler()\n",
    "}\n",
    "dfs, _ = apply_data_transforms(dfs, transformers_dict)\n",
    "model, *_ = fit_model(LinearRegression(), dfs[\"x_train\"], dfs[\"y_train\"], dfs[\"x_val\"], dfs[\"y_val\"], plot_results=False)"
   ],
   "metadata": {
    "collapsed": false
   }
  },
  {
   "cell_type": "code",
   "execution_count": null,
   "outputs": [],
   "source": [
    "y_hat, *_ = test_model(model,dfs[\"x_test\"],dfs[\"y_test\"],plot_results=True)"
   ],
   "metadata": {
    "collapsed": false
   }
  },
  {
   "cell_type": "code",
   "execution_count": null,
   "outputs": [],
   "source": [
    "# save model & estimates\n",
    "models['param_macs'] = model\n",
    "estimates['param_macs'] = y_hat"
   ],
   "metadata": {
    "collapsed": false
   }
  },
  {
   "cell_type": "markdown",
   "source": [
    "## Feature-Set: Module Parameters + Log-Parameters + MACs"
   ],
   "metadata": {
    "collapsed": false
   }
  },
  {
   "cell_type": "code",
   "execution_count": null,
   "outputs": [],
   "source": [
    "data_linear_with_log, param_cols_with_log = compute_log_transformed_features(data, param_cols)\n",
    "dfs = split_data_set(data_linear_with_log, param_cols_with_log + ['macs'], SEED)\n",
    "transformers_dict = {\n",
    "    \"x_preprocessors\": [StandardScaler()],\n",
    "    \"y_preprocessor\": MinMaxScaler()\n",
    "}\n",
    "dfs, _ = apply_data_transforms(dfs, transformers_dict)\n",
    "model, *_ = fit_model(LinearRegression(), dfs[\"x_train\"], dfs[\"y_train\"], dfs[\"x_val\"], dfs[\"y_val\"], plot_results=False)"
   ],
   "metadata": {
    "collapsed": false
   }
  },
  {
   "cell_type": "code",
   "execution_count": null,
   "outputs": [],
   "source": [
    "y_hat, *_ = test_model(model,dfs[\"x_test\"],dfs[\"y_test\"],plot_results=True)"
   ],
   "metadata": {
    "collapsed": false
   }
  },
  {
   "cell_type": "code",
   "execution_count": null,
   "outputs": [],
   "source": [
    "# save model & estimates\n",
    "models['param_log_param_macs'] = model\n",
    "estimates['param_log_param_macs'] = y_hat"
   ],
   "metadata": {
    "collapsed": false
   }
  },
  {
   "cell_type": "markdown",
   "source": [
    "# Comparison of all models"
   ],
   "metadata": {
    "collapsed": false
   }
  },
  {
   "cell_type": "code",
   "execution_count": null,
   "outputs": [],
   "source": [
    "df_to_plot = pd.DataFrame(columns=[\"features\",\"y_hat\",'y'])\n",
    "for model_name, model in models.items():\n",
    "    new_df = pd.DataFrame(data={'features':[model_name]*len(dfs['y_test']),'y_hat':np.squeeze(estimates[model_name]),'y':np.squeeze(dfs['y_test'])})\n",
    "    df_to_plot = pd.concat([df_to_plot, new_df], ignore_index=True)\n",
    "    print(f\"{'{:<35}'.format(model_name)} {round(r2_score(dfs['y_test'], estimates[model_name]), 3)}\")\n",
    "min_x = min(min(df_to_plot.y_hat),min(df_to_plot.y))\n",
    "max_x = max(max(df_to_plot.y_hat),max(df_to_plot.y))\n",
    "sns.set(font_scale=1)\n",
    "plt.figure(figsize=(8,6))\n",
    "g = sns.lmplot(data=df_to_plot, x=\"y\", y=\"y_hat\", hue=\"features\", ci=None, height=6, aspect=1.5, facet_kws={'legend_out':False}, markers='o')\n",
    "plt.plot([min_x, max_x], [min_x, max_x],ls='--', marker='', label='optimum', color=\"#f032e6\")\n",
    "line = Line2D([0], [0], ls='--', label='optimum', color='#f032e6')\n",
    "g.set(xlabel='Ground Truth', ylabel='Prediction')\n",
    "legend1 = g.legend\n",
    "legend2 = plt.legend(handles = [plt.plot([],ls=\"--\", color=line.get_color())[0]], labels=[line.get_label()], loc='best')\n",
    "g.fig.add_artist(legend1)\n",
    "g.fig.add_artist(legend2)"
   ],
   "metadata": {
    "collapsed": false
   }
  }
 ],
 "metadata": {
  "kernelspec": {
   "display_name": "Python 3",
   "language": "python",
   "name": "python3"
  },
  "language_info": {
   "codemirror_mode": {
    "name": "ipython",
    "version": 2
   },
   "file_extension": ".py",
   "mimetype": "text/x-python",
   "name": "python",
   "nbconvert_exporter": "python",
   "pygments_lexer": "ipython2",
   "version": "2.7.6"
  }
 },
 "nbformat": 4,
 "nbformat_minor": 0
}
