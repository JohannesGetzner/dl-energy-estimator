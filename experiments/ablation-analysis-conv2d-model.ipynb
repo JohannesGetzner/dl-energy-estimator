{
 "cells": [
  {
   "cell_type": "markdown",
   "source": [
    "# Ablation Analysis for the Conv2d Module\n",
    "## Imports & Definitions"
   ],
   "metadata": {
    "collapsed": false
   }
  },
  {
   "cell_type": "code",
   "execution_count": null,
   "metadata": {
    "collapsed": true
   },
   "outputs": [],
   "source": [
    "import itertools\n",
    "import pandas as pd\n",
    "from matplotlib import pyplot as plt\n",
    "import seaborn as sns\n",
    "from tqdm import tqdm\n",
    "from sklearn.preprocessing import MinMaxScaler, StandardScaler\n",
    "from utils.data_utils import preprocess_and_normalize_energy_data\n",
    "from sklearn.linear_model import LinearRegression\n",
    "from experiments_utils import split_data_set, fit_model, compute_log_transformed_features, apply_data_transforms, test_model\n",
    "%load_ext autoreload\n",
    "%autoreload 2\n",
    "SEED = 1223\n",
    "param_cols = ['batch_size','image_size','kernel_size','in_channels','out_channels','stride','padding']"
   ]
  },
  {
   "cell_type": "markdown",
   "source": [
    "## Load Data"
   ],
   "metadata": {
    "collapsed": false
   }
  },
  {
   "cell_type": "code",
   "execution_count": null,
   "outputs": [],
   "source": [
    "data_unnormalized = pd.read_csv('../data/conv2d-energies-parsed.csv')\n",
    "data = preprocess_and_normalize_energy_data(data_unnormalized, param_cols, aggregate=True)"
   ],
   "metadata": {
    "collapsed": false
   }
  },
  {
   "cell_type": "markdown",
   "source": [
    "## Ablation Analysis\n",
    "### Compute all possible feature-sets"
   ],
   "metadata": {
    "collapsed": false
   }
  },
  {
   "cell_type": "code",
   "execution_count": null,
   "outputs": [],
   "source": [
    "data_with_log, param_cols_with_log = compute_log_transformed_features(data, param_cols)\n",
    "feature_names = param_cols_with_log + ['macs']\n",
    "all_feature_comb_all_sizes = []\n",
    "for i in range(1, len(feature_names) + 1):\n",
    "    all_feature_comb_all_sizes.extend(itertools.combinations(feature_names, i))"
   ],
   "metadata": {
    "collapsed": false
   }
  },
  {
   "cell_type": "markdown",
   "source": [
    "### Fit the model to all feature-sets"
   ],
   "metadata": {
    "collapsed": false
   }
  },
  {
   "cell_type": "code",
   "execution_count": null,
   "outputs": [],
   "source": [
    "transformers_dict = {\n",
    "    \"x_preprocessors\": [StandardScaler()],\n",
    "    \"y_preprocessor\": MinMaxScaler()\n",
    "}\n",
    "scores = pd.DataFrame(columns=['feature_set','val_score','test_score'])\n",
    "for f_set in tqdm(all_feature_comb_all_sizes):\n",
    "    dfs = split_data_set(data_with_log.copy(), list(f_set), SEED)\n",
    "    dfs, _ = apply_data_transforms(dfs, transformers_dict)\n",
    "    model, val_score, val_mse = fit_model(LinearRegression(), dfs[\"x_train\"], dfs[\"y_train\"], dfs[\"x_val\"], dfs[\"y_val\"], plot_results=False, verbose=False)\n",
    "    y_hat, test_score, test_mse = test_model(model,dfs[\"x_test\"],dfs[\"y_test\"], plot_results=False, verbose=False)\n",
    "    new_row = {\n",
    "        'feature_set': str(f_set),\n",
    "        'val_score':val_score,\n",
    "        'test_score':test_score\n",
    "    }\n",
    "    scores = pd.concat([scores, pd.DataFrame(new_row, index=[0])], ignore_index = True, axis = 0)"
   ],
   "metadata": {
    "collapsed": false
   }
  },
  {
   "cell_type": "markdown",
   "source": [
    "## Evaluate Scores"
   ],
   "metadata": {
    "collapsed": false
   }
  },
  {
   "cell_type": "code",
   "execution_count": null,
   "outputs": [],
   "source": [
    "custom_label_macs = []\n",
    "for idx, row in scores.iterrows():\n",
    "    if 'macs' in row.feature_set:\n",
    "        custom_label_macs.append(True)\n",
    "    else:\n",
    "        custom_label_macs.append(False)\n",
    "scores['with_MACs'] = custom_label_macs\n",
    "scores.head()"
   ],
   "metadata": {
    "collapsed": false
   }
  },
  {
   "cell_type": "code",
   "execution_count": null,
   "outputs": [],
   "source": [
    "plt.figure(figsize=(10,8))\n",
    "g = sns.lineplot(y=scores.test_score, x=scores.index, hue=scores.with_MACs)\n",
    "# g.legend(['with MACs', 'without MACs'], title=\"feature-set\")\n",
    "g.set_xlabel('Feature-set Index')\n",
    "g.set_ylabel('Test R²-Score')\n",
    "scores['test_score'] = pd.to_numeric(scores['test_score'])\n",
    "print(\"max score with MACs: \", max(scores.loc[scores.with_MACs == True].test_score), scores.iloc[scores.loc[scores.with_MACs == True].test_score.idxmax()].feature_set)\n",
    "print(\"min score with MACs: \", min(scores.loc[scores.with_MACs == True].test_score), scores.iloc[scores.loc[scores.with_MACs == True].test_score.idxmin()].feature_set)\n",
    "print(\"max score without MACs: \", max(scores.loc[scores.with_MACs == False].test_score), scores.iloc[scores.loc[scores.with_MACs == False].test_score.idxmax()].feature_set)\n",
    "print(\"min score without MACs: \", min(scores.loc[scores.with_MACs == False].test_score), scores.iloc[scores.loc[scores.with_MACs == False].test_score.idxmin()].feature_set)"
   ],
   "metadata": {
    "collapsed": false
   }
  }
 ],
 "metadata": {
  "kernelspec": {
   "display_name": "Python 3",
   "language": "python",
   "name": "python3"
  },
  "language_info": {
   "codemirror_mode": {
    "name": "ipython",
    "version": 2
   },
   "file_extension": ".py",
   "mimetype": "text/x-python",
   "name": "python",
   "nbconvert_exporter": "python",
   "pygments_lexer": "ipython2",
   "version": "2.7.6"
  }
 },
 "nbformat": 4,
 "nbformat_minor": 0
}
