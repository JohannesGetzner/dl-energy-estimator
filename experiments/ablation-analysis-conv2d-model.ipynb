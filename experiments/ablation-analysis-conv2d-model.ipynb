{
 "cells": [
  {
   "cell_type": "markdown",
   "source": [
    "# Ablation Analysis for the Conv2d Module\n",
    "## Imports & Definitions"
   ],
   "metadata": {
    "collapsed": false
   }
  },
  {
   "cell_type": "code",
   "execution_count": 1,
   "metadata": {
    "collapsed": true
   },
   "outputs": [],
   "source": [
    "import sys\n",
    "sys.path.append('../')\n",
    "import itertools\n",
    "import pandas as pd\n",
    "from matplotlib import pyplot as plt\n",
    "import seaborn as sns\n",
    "from tqdm import tqdm\n",
    "from sklearn.preprocessing import MinMaxScaler, StandardScaler, PolynomialFeatures\n",
    "from utils.data_utils import preprocess_and_normalize_energy_data, parse_codecarbon_output\n",
    "from sklearn.linear_model import LinearRegression\n",
    "from utils.experiments_utils import split_data_set, fit_model, compute_log_transformed_features, apply_data_transforms, test_model\n",
    "%load_ext autoreload\n",
    "%autoreload 2\n",
    "SEED = 1223"
   ]
  },
  {
   "cell_type": "markdown",
   "source": [
    "## Load Data"
   ],
   "metadata": {
    "collapsed": false
   }
  },
  {
   "cell_type": "code",
   "execution_count": 2,
   "outputs": [
    {
     "name": "stdout",
     "output_type": "stream",
     "text": [
      "Dropped observations with the following indices: [24, 69, 102, 175, 183, 303, 382, 406, 467, 552, 619, 751, 761, 853, 901, 902, 955, 1009, 1041, 1060, 1089, 1106, 1225, 1230, 1330, 1365, 1423, 1449]\n",
      "dataset shape: (1472, 32)\n"
     ]
    }
   ],
   "source": [
    "d1 = parse_codecarbon_output(\n",
    "    '../data/conv2d/00_conv2d-raw.csv',\n",
    "    False,\n",
    "    ('../data/conv2d/00_conv2d-slurm-log.out','conv2d',False,3)\n",
    ")\n",
    "print(\"dataset shape:\", d1.shape)"
   ],
   "metadata": {
    "collapsed": false
   }
  },
  {
   "cell_type": "code",
   "execution_count": 3,
   "outputs": [
    {
     "name": "stdout",
     "output_type": "stream",
     "text": [
      "Dropped observations with the following indices: [6, 7, 8, 21, 22, 23, 60, 61, 62, 165, 166, 167, 174, 175, 176, 228, 229, 230, 246, 247, 248, 303, 304, 305, 456, 457, 458, 498, 499, 500, 546, 547, 548, 666, 667, 668, 675, 676, 677, 783, 784, 785, 798, 799, 800, 864, 865, 866, 897, 898, 899, 945, 946, 947, 1107, 1108, 1109, 1113, 1114, 1115, 1242, 1243, 1244, 1362, 1363, 1364, 1371, 1372, 1373, 1452, 1453, 1454]\n",
      "dataset shape: (1428, 32)\n"
     ]
    }
   ],
   "source": [
    "d2 = parse_codecarbon_output(\n",
    "    '../data/conv2d/02_conv2d-raw.csv',\n",
    "    False,\n",
    "    ('../data/conv2d/02_conv2d-slurm-log.out','conv2d',True,3)\n",
    ")\n",
    "print(\"dataset shape:\", d2.shape)"
   ],
   "metadata": {
    "collapsed": false
   }
  },
  {
   "cell_type": "code",
   "execution_count": 4,
   "outputs": [
    {
     "name": "stdout",
     "output_type": "stream",
     "text": [
      "Final shape of data set: (976, 23)\n"
     ]
    }
   ],
   "source": [
    "param_cols = ['batch_size','image_size','kernel_size','in_channels','out_channels','stride','padding']\n",
    "data_unnormalized = pd.concat([d1,d2])\n",
    "data = preprocess_and_normalize_energy_data(data_unnormalized, param_cols, aggregate=True)"
   ],
   "metadata": {
    "collapsed": false
   }
  },
  {
   "cell_type": "markdown",
   "source": [
    "## Ablation Analysis\n",
    "### Compute all possible feature-sets"
   ],
   "metadata": {
    "collapsed": false
   }
  },
  {
   "cell_type": "code",
   "execution_count": 5,
   "outputs": [
    {
     "name": "stdout",
     "output_type": "stream",
     "text": [
      "['batch_size', 'image_size', 'kernel_size', 'in_channels', 'out_channels', 'stride', 'padding', 'log_batch_size', 'log_image_size', 'log_kernel_size', 'log_in_channels', 'log_out_channels', 'log_stride', 'log_padding', 'macs']\n"
     ]
    }
   ],
   "source": [
    "data_with_log, param_cols_with_log = compute_log_transformed_features(data, param_cols)\n",
    "feature_names = param_cols_with_log + ['macs']\n",
    "all_feature_comb_all_sizes = []\n",
    "for i in range(1, len(feature_names) + 1):\n",
    "    all_feature_comb_all_sizes.extend(itertools.combinations(feature_names, i))\n",
    "print(feature_names)"
   ],
   "metadata": {
    "collapsed": false
   }
  },
  {
   "cell_type": "markdown",
   "source": [
    "### Fit the model to all feature-sets"
   ],
   "metadata": {
    "collapsed": false
   }
  },
  {
   "cell_type": "code",
   "execution_count": 6,
   "outputs": [
    {
     "name": "stderr",
     "output_type": "stream",
     "text": [
      "100%|██████████| 32767/32767 [20:32<00:00, 26.59it/s]\n"
     ]
    }
   ],
   "source": [
    "transformers_dict = {\n",
    "    \"x_preprocessors\": [StandardScaler()],\n",
    "    \"y_preprocessor\": MinMaxScaler()\n",
    "}\n",
    "scores = pd.DataFrame(columns=['feature_set','val_score','test_score'])\n",
    "for f_set in tqdm(all_feature_comb_all_sizes):\n",
    "    dfs = split_data_set(data_with_log.copy(), list(f_set), SEED, False)\n",
    "    dfs, _ = apply_data_transforms(dfs, transformers_dict)\n",
    "    model, val_score, val_mse = fit_model(LinearRegression(), dfs[\"x_train\"], dfs[\"y_train\"], dfs[\"x_val\"], dfs[\"y_val\"], plot_results=False, verbose=False)\n",
    "    y_hat, test_score, test_mse = test_model(model,dfs[\"x_test\"],dfs[\"y_test\"], plot_results=False, verbose=False)\n",
    "    new_row = {\n",
    "        'feature_set': str(f_set),\n",
    "        'val_score':val_score,\n",
    "        'test_score':test_score\n",
    "    }\n",
    "    scores = pd.concat([scores, pd.DataFrame(new_row, index=[0])], ignore_index = True, axis = 0)"
   ],
   "metadata": {
    "collapsed": false
   }
  },
  {
   "cell_type": "markdown",
   "source": [
    "## Evaluate Scores"
   ],
   "metadata": {
    "collapsed": false
   }
  },
  {
   "cell_type": "code",
   "execution_count": 7,
   "outputs": [
    {
     "data": {
      "text/plain": "         feature_set  val_score  test_score  with_MACs\n0    ('batch_size',)   0.035712    0.019013      False\n1    ('image_size',)   0.072369    0.041504      False\n2   ('kernel_size',)   0.029958    0.072077      False\n3   ('in_channels',)   0.045093    0.023663      False\n4  ('out_channels',)   0.016527   -0.002558      False",
      "text/html": "<div>\n<style scoped>\n    .dataframe tbody tr th:only-of-type {\n        vertical-align: middle;\n    }\n\n    .dataframe tbody tr th {\n        vertical-align: top;\n    }\n\n    .dataframe thead th {\n        text-align: right;\n    }\n</style>\n<table border=\"1\" class=\"dataframe\">\n  <thead>\n    <tr style=\"text-align: right;\">\n      <th></th>\n      <th>feature_set</th>\n      <th>val_score</th>\n      <th>test_score</th>\n      <th>with_MACs</th>\n    </tr>\n  </thead>\n  <tbody>\n    <tr>\n      <th>0</th>\n      <td>('batch_size',)</td>\n      <td>0.035712</td>\n      <td>0.019013</td>\n      <td>False</td>\n    </tr>\n    <tr>\n      <th>1</th>\n      <td>('image_size',)</td>\n      <td>0.072369</td>\n      <td>0.041504</td>\n      <td>False</td>\n    </tr>\n    <tr>\n      <th>2</th>\n      <td>('kernel_size',)</td>\n      <td>0.029958</td>\n      <td>0.072077</td>\n      <td>False</td>\n    </tr>\n    <tr>\n      <th>3</th>\n      <td>('in_channels',)</td>\n      <td>0.045093</td>\n      <td>0.023663</td>\n      <td>False</td>\n    </tr>\n    <tr>\n      <th>4</th>\n      <td>('out_channels',)</td>\n      <td>0.016527</td>\n      <td>-0.002558</td>\n      <td>False</td>\n    </tr>\n  </tbody>\n</table>\n</div>"
     },
     "execution_count": 7,
     "metadata": {},
     "output_type": "execute_result"
    }
   ],
   "source": [
    "custom_label_macs = []\n",
    "for idx, row in scores.iterrows():\n",
    "    if 'macs' in row.feature_set:\n",
    "        custom_label_macs.append(True)\n",
    "    else:\n",
    "        custom_label_macs.append(False)\n",
    "scores['with_MACs'] = custom_label_macs\n",
    "scores.head()"
   ],
   "metadata": {
    "collapsed": false
   }
  },
  {
   "cell_type": "code",
   "execution_count": 8,
   "outputs": [
    {
     "name": "stdout",
     "output_type": "stream",
     "text": [
      "max score with MACs:  0.9980713676560352 ('batch_size', 'image_size', 'kernel_size', 'in_channels', 'stride', 'log_image_size', 'log_kernel_size', 'log_out_channels', 'log_stride', 'log_padding', 'macs')\n",
      "min score with MACs:  0.9971916564961691 ('out_channels', 'log_out_channels', 'macs')\n",
      "max score without MACs:  0.25068152356422424 ('batch_size', 'image_size', 'kernel_size', 'in_channels', 'stride', 'log_batch_size', 'log_image_size', 'log_kernel_size', 'log_out_channels', 'log_stride')\n",
      "min score without MACs:  -0.02672968998584735 ('padding', 'log_padding')\n"
     ]
    },
    {
     "data": {
      "text/plain": "<Figure size 700x700 with 1 Axes>",
      "image/png": "[encoded data removed]"
     },
     "metadata": {},
     "output_type": "display_data"
    }
   ],
   "source": [
    "plt.figure(figsize=(7,7))\n",
    "sns.set(font_scale=1.1)\n",
    "g = sns.lineplot(y=scores.test_score, x=scores.index, hue=scores.with_MACs)\n",
    "g.legend(loc=\"best\")\n",
    "g.set_xlabel('Feature-set Index')\n",
    "g.set_ylabel('Test R²-Score')\n",
    "scores['test_score'] = pd.to_numeric(scores['test_score'])\n",
    "print(\"max score with MACs: \", max(scores.loc[scores.with_MACs == True].test_score), scores.iloc[scores.loc[scores.with_MACs == True].test_score.idxmax()].feature_set)\n",
    "print(\"min score with MACs: \", min(scores.loc[scores.with_MACs == True].test_score), scores.iloc[scores.loc[scores.with_MACs == True].test_score.idxmin()].feature_set)\n",
    "print(\"max score without MACs: \", max(scores.loc[scores.with_MACs == False].test_score), scores.iloc[scores.loc[scores.with_MACs == False].test_score.idxmax()].feature_set)\n",
    "print(\"min score without MACs: \", min(scores.loc[scores.with_MACs == False].test_score), scores.iloc[scores.loc[scores.with_MACs == False].test_score.idxmin()].feature_set)"
   ],
   "metadata": {
    "collapsed": false
   }
  }
 ],
 "metadata": {
  "kernelspec": {
   "display_name": "Python 3",
   "language": "python",
   "name": "python3"
  },
  "language_info": {
   "codemirror_mode": {
    "name": "ipython",
    "version": 2
   },
   "file_extension": ".py",
   "mimetype": "text/x-python",
   "name": "python",
   "nbconvert_exporter": "python",
   "pygments_lexer": "ipython2",
   "version": "2.7.6"
  }
 },
 "nbformat": 4,
 "nbformat_minor": 0
}
